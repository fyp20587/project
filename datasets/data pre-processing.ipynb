{
 "cells": [
  {
   "cell_type": "code",
   "execution_count": 1,
   "id": "213e8b4b",
   "metadata": {},
   "outputs": [],
   "source": [
    "import chardet\n",
    "import pandas as pd\n",
    "from tqdm import tqdm\n",
    "tqdm.pandas()\n",
    "import re\n",
    "from sklearn.model_selection import train_test_split\n",
    "import numpy as np"
   ]
  },
  {
   "cell_type": "code",
   "execution_count": 2,
   "id": "f0668a9f",
   "metadata": {},
   "outputs": [
    {
     "name": "stdout",
     "output_type": "stream",
     "text": [
      "<class 'pandas.core.frame.DataFrame'>\n",
      "RangeIndex: 4846 entries, 0 to 4845\n",
      "Data columns (total 2 columns):\n",
      " #   Column     Non-Null Count  Dtype \n",
      "---  ------     --------------  ----- \n",
      " 0   sentiment  4846 non-null   object\n",
      " 1   text       4846 non-null   object\n",
      "dtypes: object(2)\n",
      "memory usage: 75.8+ KB\n"
     ]
    }
   ],
   "source": [
    "#detect the encoding of the CSV file\n",
    "with open('financialdata.csv', 'rb') as file:\n",
    "    result = chardet.detect(file.read())\n",
    "\n",
    "try:\n",
    "    finnews_df = pd.read_csv('financialdata.csv', encoding=result['encoding'],header=None)\n",
    "except UnicodeDecodeError as e:\n",
    "    print(f\"UnicodeDecodeError: {e}\")\n",
    "    \n",
    "finnews_df.columns = ['sentiment','text']\n",
    "\n",
    "finnews_df.info()\n",
    "news_df1= pd.read_csv(\"SEN_en_AMT_nooutlier.csv\")\n",
    "news_df2= pd.read_csv(\"SEN_en_R_nooutlier.csv\")\n",
    "\n",
    "columns_to_keep = ['headline','majority_label']"
   ]
  },
  {
   "cell_type": "code",
   "execution_count": 3,
   "id": "1c993a24",
   "metadata": {},
   "outputs": [
    {
     "name": "stdout",
     "output_type": "stream",
     "text": [
      "<class 'pandas.core.frame.DataFrame'>\n",
      "Index: 2446 entries, 0 to 2464\n",
      "Data columns (total 2 columns):\n",
      " #   Column     Non-Null Count  Dtype \n",
      "---  ------     --------------  ----- \n",
      " 0   text       2446 non-null   object\n",
      " 1   sentiment  2446 non-null   object\n",
      "dtypes: object(2)\n",
      "memory usage: 57.3+ KB\n"
     ]
    }
   ],
   "source": [
    "#keeping the targetted columns -->\n",
    "news_df1 = news_df1[columns_to_keep]\n",
    "news_df2 = news_df2[columns_to_keep]\n",
    "\n",
    "\n",
    "news_df = pd.concat([news_df1, news_df2], axis=0, ignore_index=True)\n",
    "\n",
    "replace_dict = {'neg': 'Negative', 'neutr': 'Neutral','pos':'Positive'}\n",
    "news_df['majority_label'] = news_df['majority_label'].replace(replace_dict)\n",
    "\n",
    "\n",
    "#drop irrelevant value\n",
    "#define the values to drop\n",
    "values_to_drop = ['unk', 'UNK']\n",
    "news_df = news_df[~news_df['majority_label'].isin(values_to_drop)]\n",
    "\n",
    "#renaming the columns with new names\n",
    "new_column_names = {'headline': 'text', 'majority_label': 'sentiment'}\n",
    "news_df = news_df.rename(columns=new_column_names)\n",
    "\n",
    "news_df.info()"
   ]
  },
  {
   "cell_type": "code",
   "execution_count": 4,
   "id": "ca4f72f9",
   "metadata": {},
   "outputs": [
    {
     "name": "stdout",
     "output_type": "stream",
     "text": [
      "sentiment\n",
      "neutral     2879\n",
      "positive    1363\n",
      "Neutral     1097\n",
      "Negative     905\n",
      "negative     604\n",
      "Positive     444\n",
      "Name: count, dtype: int64\n",
      "\n",
      "\n",
      "<class 'pandas.core.frame.DataFrame'>\n",
      "RangeIndex: 7292 entries, 0 to 7291\n",
      "Data columns (total 2 columns):\n",
      " #   Column     Non-Null Count  Dtype \n",
      "---  ------     --------------  ----- \n",
      " 0   sentiment  7292 non-null   object\n",
      " 1   text       7292 non-null   object\n",
      "dtypes: object(2)\n",
      "memory usage: 114.1+ KB\n"
     ]
    }
   ],
   "source": [
    "final_df = pd.merge(finnews_df, news_df, on=['text','sentiment'], how='outer')\n",
    "print(final_df['sentiment'].value_counts())\n",
    "print(\"\\n\")\n",
    "final_df.info()"
   ]
  },
  {
   "cell_type": "markdown",
   "id": "c597392a",
   "metadata": {},
   "source": [
    "Text Cleaning\n"
   ]
  },
  {
   "cell_type": "code",
   "execution_count": 5,
   "id": "4e729043",
   "metadata": {},
   "outputs": [
    {
     "data": {
      "text/html": [
       "<div>\n",
       "<style scoped>\n",
       "    .dataframe tbody tr th:only-of-type {\n",
       "        vertical-align: middle;\n",
       "    }\n",
       "\n",
       "    .dataframe tbody tr th {\n",
       "        vertical-align: top;\n",
       "    }\n",
       "\n",
       "    .dataframe thead th {\n",
       "        text-align: right;\n",
       "    }\n",
       "</style>\n",
       "<table border=\"1\" class=\"dataframe\">\n",
       "  <thead>\n",
       "    <tr style=\"text-align: right;\">\n",
       "      <th></th>\n",
       "      <th>sentiment</th>\n",
       "      <th>text</th>\n",
       "    </tr>\n",
       "  </thead>\n",
       "  <tbody>\n",
       "    <tr>\n",
       "      <th>0</th>\n",
       "      <td>neutral</td>\n",
       "      <td>According to Gran , the company has no plans t...</td>\n",
       "    </tr>\n",
       "    <tr>\n",
       "      <th>1</th>\n",
       "      <td>neutral</td>\n",
       "      <td>Technopolis plans to develop in stages an area...</td>\n",
       "    </tr>\n",
       "    <tr>\n",
       "      <th>2</th>\n",
       "      <td>negative</td>\n",
       "      <td>The international electronic industry company ...</td>\n",
       "    </tr>\n",
       "    <tr>\n",
       "      <th>3</th>\n",
       "      <td>positive</td>\n",
       "      <td>With the new production plant the company woul...</td>\n",
       "    </tr>\n",
       "    <tr>\n",
       "      <th>4</th>\n",
       "      <td>positive</td>\n",
       "      <td>According to the company 's updated strategy f...</td>\n",
       "    </tr>\n",
       "    <tr>\n",
       "      <th>...</th>\n",
       "      <td>...</td>\n",
       "      <td>...</td>\n",
       "    </tr>\n",
       "    <tr>\n",
       "      <th>7287</th>\n",
       "      <td>Negative</td>\n",
       "      <td>Trump’s NATO parade of falsehoods and misstate...</td>\n",
       "    </tr>\n",
       "    <tr>\n",
       "      <th>7288</th>\n",
       "      <td>Negative</td>\n",
       "      <td>Lawyer for Democrats calls Trump ‘a clear and ...</td>\n",
       "    </tr>\n",
       "    <tr>\n",
       "      <th>7289</th>\n",
       "      <td>Negative</td>\n",
       "      <td>How could 63 million people be wrong? The GOP ...</td>\n",
       "    </tr>\n",
       "    <tr>\n",
       "      <th>7290</th>\n",
       "      <td>Neutral</td>\n",
       "      <td>What Trump claimed about the Russia probe — an...</td>\n",
       "    </tr>\n",
       "    <tr>\n",
       "      <th>7291</th>\n",
       "      <td>Neutral</td>\n",
       "      <td>If officials objecting to Trump’s candidacy wa...</td>\n",
       "    </tr>\n",
       "  </tbody>\n",
       "</table>\n",
       "<p>7292 rows × 2 columns</p>\n",
       "</div>"
      ],
      "text/plain": [
       "     sentiment                                               text\n",
       "0      neutral  According to Gran , the company has no plans t...\n",
       "1      neutral  Technopolis plans to develop in stages an area...\n",
       "2     negative  The international electronic industry company ...\n",
       "3     positive  With the new production plant the company woul...\n",
       "4     positive  According to the company 's updated strategy f...\n",
       "...        ...                                                ...\n",
       "7287  Negative  Trump’s NATO parade of falsehoods and misstate...\n",
       "7288  Negative  Lawyer for Democrats calls Trump ‘a clear and ...\n",
       "7289  Negative  How could 63 million people be wrong? The GOP ...\n",
       "7290   Neutral  What Trump claimed about the Russia probe — an...\n",
       "7291   Neutral  If officials objecting to Trump’s candidacy wa...\n",
       "\n",
       "[7292 rows x 2 columns]"
      ]
     },
     "execution_count": 5,
     "metadata": {},
     "output_type": "execute_result"
    }
   ],
   "source": [
    "final_df"
   ]
  },
  {
   "cell_type": "code",
   "execution_count": 6,
   "id": "fea7fd38",
   "metadata": {},
   "outputs": [],
   "source": [
    "\n",
    "class TextCleaner:\n",
    "    \n",
    "    def lowercase(self, text):\n",
    "        # Lowercase\n",
    "        text = text.lower()\n",
    "        return text\n",
    "    \n",
    "    def remove_links(self, text):\n",
    "        # Remove any link\n",
    "        text = re.sub(r'https*\\S+', ' ', text)\n",
    "        text = re.sub(r'http*\\S+', ' ', text)\n",
    "        return text\n",
    "    \n",
    "    def remove_alphanumeric(self, text):\n",
    "        # Remove alphanumeric characters\n",
    "        text = re.sub(r'\\W+', ' ', text)\n",
    "        return text\n",
    "\n",
    "    def remove_word_with_number(self, text):\n",
    "        # Remove any word containing number\n",
    "        text = re.sub(r'\\b\\w*\\d+\\w*\\b', ' ', text)\n",
    "        return text\n",
    "\n",
    "\n",
    "    def remove_extra_whitespace(self, text):\n",
    "        # Remove extra white space\n",
    "        text = re.sub(r'\\s{2,}', ' ', text)\n",
    "        # Remove leading and trailing whitespaces\n",
    "        text = text.strip()\n",
    "        return text\n",
    "\n",
    "    def clean_text(self, text):\n",
    "       \n",
    "        # Use the individual functions to clean the text\n",
    "        text = self.lowercase(text)\n",
    "        text = self.remove_links(text)\n",
    "        #text = self.remove_alphanumeric(text)\n",
    "        #text = self.remove_word_with_number(text)\n",
    "        text = self.remove_extra_whitespace(text)\n",
    "\n",
    "        return text"
   ]
  },
  {
   "cell_type": "code",
   "execution_count": 7,
   "id": "67d54980",
   "metadata": {},
   "outputs": [],
   "source": [
    "#create an instance of TextCleaner\n",
    "cleaner = TextCleaner()\n"
   ]
  },
  {
   "cell_type": "code",
   "execution_count": 8,
   "id": "c6a0f496",
   "metadata": {},
   "outputs": [
    {
     "name": "stderr",
     "output_type": "stream",
     "text": [
      "100%|██████████| 7292/7292 [00:00<00:00, 260066.53it/s]\n"
     ]
    }
   ],
   "source": [
    "#apply the clean_text method to the 'text_column' in the DataFrame\n",
    "final_df['cleaned_text'] = final_df['text'].progress_apply(cleaner.clean_text)\n",
    "final_df2 = final_df[['cleaned_text','sentiment']].copy()"
   ]
  },
  {
   "cell_type": "code",
   "execution_count": 9,
   "id": "8706b459",
   "metadata": {},
   "outputs": [],
   "source": [
    "final_df2.to_csv(\"processed_data.csv\",index=False)"
   ]
  },
  {
   "cell_type": "code",
   "execution_count": 10,
   "id": "f95ac69f",
   "metadata": {},
   "outputs": [],
   "source": [
    "X = final_df2.cleaned_text.values\n",
    "y = final_df2.sentiment.values\n"
   ]
  },
  {
   "cell_type": "code",
   "execution_count": 11,
   "id": "eaff00c5",
   "metadata": {},
   "outputs": [
    {
     "name": "stdout",
     "output_type": "stream",
     "text": [
      "Training set shape: (5249,) (5249,)\n",
      "Test set shape: (1459,) (1459,)\n",
      "Validation dataset shape: (584,) (584,)\n",
      "\n",
      "\n",
      "Training set label counts:\n",
      "Negative: 654\n",
      "Neutral: 756\n",
      "Positive: 309\n",
      "negative: 438\n",
      "neutral: 2110\n",
      "positive: 982\n",
      "\n",
      "\n",
      "Test set label counts:\n",
      "Negative: 177\n",
      "Neutral: 244\n",
      "Positive: 100\n",
      "negative: 118\n",
      "neutral: 560\n",
      "positive: 260\n",
      "\n",
      "\n",
      "\n",
      "Validation set label counts:\n",
      "Negative: 74\n",
      "Neutral: 97\n",
      "Positive: 35\n",
      "negative: 48\n",
      "neutral: 209\n",
      "positive: 121\n"
     ]
    }
   ],
   "source": [
    "# #split for training,testing and validation\n",
    "X_temp, x_test, y_temp, y_test = train_test_split(X, y, test_size=0.2, random_state=40,shuffle=True)\n",
    "\n",
    "#split for testing and validation purpose\n",
    "X_train, x_val, y_train, y_val = train_test_split(X_temp, y_temp, test_size=0.1, random_state=40,shuffle=True)\n",
    "# Verify the shapes of the datasets\n",
    "print(\"Training set shape:\", X_train.shape, y_train.shape)\n",
    "print(\"Test set shape:\", x_test.shape, y_test.shape)\n",
    "print(\"Validation dataset shape:\", x_val.shape, y_val.shape)\n",
    "print(\"\\n\")\n",
    "\n",
    "unique_labels_train, counts_train = np.unique(y_train, return_counts=True)\n",
    "print(\"Training set label counts:\")\n",
    "for label, count in zip(unique_labels_train, counts_train):\n",
    "    print(f\"{label}: {count}\")\n",
    "print(\"\\n\")\n",
    "\n",
    "unique_labels_val, counts_val = np.unique(y_test, return_counts=True)\n",
    "print(\"Test set label counts:\")\n",
    "for label, count in zip(unique_labels_val, counts_val):\n",
    "    print(f\"{label}: {count}\")\n",
    "print(\"\\n\")\n",
    "# Print category labels and their counts in y_test\n",
    "unique_labels_val, counts_val = np.unique(y_val, return_counts=True)\n",
    "print(\"\\nValidation set label counts:\")\n",
    "for label, count in zip(unique_labels_val, counts_val):\n",
    "    print(f\"{label}: {count}\")"
   ]
  }
 ],
 "metadata": {
  "kernelspec": {
   "display_name": "Python 3 (ipykernel)",
   "language": "python",
   "name": "python3"
  },
  "language_info": {
   "codemirror_mode": {
    "name": "ipython",
    "version": 3
   },
   "file_extension": ".py",
   "mimetype": "text/x-python",
   "name": "python",
   "nbconvert_exporter": "python",
   "pygments_lexer": "ipython3",
   "version": "3.8.18"
  }
 },
 "nbformat": 4,
 "nbformat_minor": 5
}
