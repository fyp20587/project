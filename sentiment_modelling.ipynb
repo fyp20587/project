{
 "cells": [
  {
   "cell_type": "code",
   "execution_count": 1,
   "id": "56b95c8d-af86-4c99-a602-ac5ad08017a0",
   "metadata": {},
   "outputs": [],
   "source": [
    "import pandas as pd\n",
    "import numpy as np\n",
    "import sklearn\n",
    "from sklearn.model_selection import train_test_split\n",
    "import random\n",
    "import time\n",
    "from transformers import AdamW, get_linear_schedule_with_warmup\n",
    "import torch\n",
    "import torch.nn as nn\n",
    "device = torch.device(\"cuda\")\n",
    "import warnings\n",
    "from sklearn.metrics import classification_report\n",
    "warnings.filterwarnings(\"ignore\")\n",
    "from transformers import BertTokenizer,AutoModel\n",
    "from torch.utils.data import TensorDataset, DataLoader, RandomSampler, SequentialSampler\n",
    "from transformers import AdamW\n",
    "from torch.optim import lr_scheduler\n",
    "from collections import defaultdict\n",
    "import nlpaug.augmenter.word as naw\n",
    "import torch.nn.functional as F\n",
    "from sklearn.metrics import confusion_matrix, classification_report\n",
    "import matplotlib.pyplot as plt\n"
   ]
  },
  {
   "cell_type": "code",
   "execution_count": 2,
   "id": "ef691106",
   "metadata": {},
   "outputs": [
    {
     "data": {
      "text/plain": [
       "sentiment\n",
       "neutral     3976\n",
       "positive    1807\n",
       "negative    1509\n",
       "Name: count, dtype: int64"
      ]
     },
     "execution_count": 2,
     "metadata": {},
     "output_type": "execute_result"
    }
   ],
   "source": [
    "#read the dataset\n",
    "df = pd.read_csv(\"datasets/processed_data.csv\")\n",
    "df['sentiment'] = df['sentiment'].str.lower()\n",
    "df['sentiment'].value_counts()"
   ]
  },
  {
   "cell_type": "code",
   "execution_count": 3,
   "id": "50bcacaa",
   "metadata": {},
   "outputs": [
    {
     "data": {
      "text/plain": [
       "sentiment\n",
       "neutral     1900\n",
       "positive    1807\n",
       "negative    1509\n",
       "Name: count, dtype: int64"
      ]
     },
     "execution_count": 3,
     "metadata": {},
     "output_type": "execute_result"
    }
   ],
   "source": [
    "#FILTER positive and negative samples\n",
    "positive_samples = df[df['sentiment'] == 'positive']\n",
    "negative_samples = df[df['sentiment'] == 'negative']\n",
    "#filter samples from neutral sentiment (1900) so doesn't have bias towards neutral\n",
    "neutral_samples = df[df['sentiment'] == 'neutral'].head(1900)\n",
    "\n",
    "#concatenate all samples back to the original dataframe\n",
    "df = pd.concat([positive_samples, negative_samples, neutral_samples], ignore_index=True)\n",
    "df['sentiment'].value_counts()"
   ]
  },
  {
   "cell_type": "code",
   "execution_count": 4,
   "id": "66ca51b4",
   "metadata": {},
   "outputs": [
    {
     "data": {
      "image/png": "[encoded data removed]",
      "text/plain": [
       "<Figure size 800x600 with 1 Axes>"
      ]
     },
     "metadata": {},
     "output_type": "display_data"
    }
   ],
   "source": [
    "#Sentiment data\n",
    "sentiment_data = {\n",
    "    'neutral': 1900,\n",
    "    'positive': 1807,\n",
    "    'negative': 1509\n",
    "}\n",
    "\n",
    "#Extracting labels and counts\n",
    "labels = list(sentiment_data.keys())\n",
    "counts = list(sentiment_data.values())\n",
    "\n",
    "#Plotting the bar chart\n",
    "plt.figure(figsize=(8, 6))\n",
    "plt.bar(labels, counts, color=['blue', 'green', 'red'])\n",
    "plt.xlabel('Sentiment')\n",
    "plt.ylabel('Count')\n",
    "plt.title('Sentiment Distribution')\n",
    "plt.show()"
   ]
  },
  {
   "cell_type": "code",
   "execution_count": 5,
   "id": "fe05529b",
   "metadata": {},
   "outputs": [],
   "source": [
    "sentiment_mapping = {'positive':2,'negative':1,'neutral':0}\n",
    "\n",
    "df['sentiment'] = df['sentiment'].map(sentiment_mapping)\n",
    "#converts string format to numerical form for classification, necessary for PyTorch and BERT"
   ]
  },
  {
   "cell_type": "code",
   "execution_count": 6,
   "id": "0c69597c",
   "metadata": {},
   "outputs": [],
   "source": [
    "X = df.cleaned_text.values\n",
    "y = df.sentiment.values\n",
    "\n",
    "#split for training,testing and validation\n",
    "X_train, x_temp, y_train, y_temp = train_test_split(X, y, test_size=0.2, random_state=40,shuffle=True)\n",
    "\n",
    "#split for testing and validation purpose\n",
    "x_test, x_val, y_test, y_val = train_test_split(x_temp, y_temp, test_size=0.5, random_state=40,shuffle=True)\n",
    "#so model can be tested on its performance on unseen data"
   ]
  },
  {
   "cell_type": "code",
   "execution_count": 7,
   "id": "240010a8",
   "metadata": {},
   "outputs": [
    {
     "name": "stdout",
     "output_type": "stream",
     "text": [
      "Training set shape: (4172,) (4172,)\n",
      "Test set shape: (522,) (522,)\n",
      "Validation dataset shape: (522,) (522,)\n",
      "\n",
      "\n",
      "Training set label counts:\n",
      "0: 1513\n",
      "1: 1219\n",
      "2: 1440\n",
      "\n",
      "\n",
      "Test set label counts:\n",
      "0: 186\n",
      "1: 149\n",
      "2: 187\n",
      "\n",
      "\n",
      "\n",
      "Validation set label counts:\n",
      "0: 201\n",
      "1: 141\n",
      "2: 180\n"
     ]
    }
   ],
   "source": [
    "#Verify the shapes of the datasets\n",
    "print(\"Training set shape:\", X_train.shape, y_train.shape)\n",
    "print(\"Test set shape:\", x_test.shape, y_test.shape)\n",
    "print(\"Validation dataset shape:\", x_val.shape, y_val.shape)\n",
    "print(\"\\n\")\n",
    "\n",
    "unique_labels_train, counts_train = np.unique(y_train, return_counts=True)\n",
    "print(\"Training set label counts:\")\n",
    "for label, count in zip(unique_labels_train, counts_train):\n",
    "    print(f\"{label}: {count}\")\n",
    "print(\"\\n\")\n",
    "\n",
    "unique_labels_val, counts_val = np.unique(y_test, return_counts=True)\n",
    "print(\"Test set label counts:\")\n",
    "for label, count in zip(unique_labels_val, counts_val):\n",
    "    print(f\"{label}: {count}\")\n",
    "print(\"\\n\")\n",
    "#Print category labels and their counts in y_test\n",
    "unique_labels_val, counts_val = np.unique(y_val, return_counts=True)\n",
    "print(\"\\nValidation set label counts:\")\n",
    "for label, count in zip(unique_labels_val, counts_val):\n",
    "    print(f\"{label}: {count}\")"
   ]
  },
  {
   "cell_type": "markdown",
   "id": "57da1b51",
   "metadata": {},
   "source": [
    "# Pre_processing Train, Test and Validation data for model training"
   ]
  },
  {
   "cell_type": "code",
   "execution_count": 8,
   "id": "4a30a30b",
   "metadata": {},
   "outputs": [
    {
     "name": "stdout",
     "output_type": "stream",
     "text": [
      "No GPU available, using the CPU instead.\n"
     ]
    }
   ],
   "source": [
    "if torch.cuda.is_available():       \n",
    "    device = torch.device(\"cuda\")\n",
    "    print(f'There are {torch.cuda.device_count()} GPU(s) available.')\n",
    "    print('Device name:', torch.cuda.get_device_name(0))\n",
    "\n",
    "else:\n",
    "    print('No GPU available, using the CPU instead.')\n",
    "    device = torch.device(\"cpu\")\n",
    "\n",
    "#import transformers"
   ]
  },
  {
   "cell_type": "markdown",
   "id": "928f4499",
   "metadata": {},
   "source": [
    "# Bert Tokenizer"
   ]
  },
  {
   "cell_type": "code",
   "execution_count": 9,
   "id": "0390e5b2",
   "metadata": {},
   "outputs": [],
   "source": [
    "tokenizer = BertTokenizer.from_pretrained('bert-base-uncased')\n",
    "bert = AutoModel.from_pretrained('bert-base-uncased')\n",
    "#Initializes the tokenizer for BERT\n",
    "#Prepares the input data by tokenizing text so BERT can understand.\n",
    "#Tokenization converts text into tokens/indices that represent BERT's vocabulary."
   ]
  },
  {
   "cell_type": "code",
   "execution_count": 11,
   "id": "0139189e",
   "metadata": {},
   "outputs": [],
   "source": [
    "#train_tokenized\n",
    "class TextTokenizer:\n",
    "    def __init__(self, max_len,tokenizer):\n",
    "        self.tokenizer = tokenizer\n",
    "        self.max_len = max_len\n",
    "\n",
    "    def tokenize_texts(self, texts):\n",
    "        tokenized_texts = [self.tokenizer.encode_plus(\n",
    "            text=text,\n",
    "            max_length=self.max_len,\n",
    "            add_special_tokens=True,\n",
    "            truncation=True,\n",
    "            pad_to_max_length=True\n",
    "        ) for text in texts]\n",
    "\n",
    "        input_ids = torch.tensor([tokenized['input_ids'] for tokenized in tokenized_texts],dtype=torch.long)\n",
    "        attention_mask = torch.tensor([tokenized['attention_mask'] for tokenized in tokenized_texts],dtype=torch.long)\n",
    "            \n",
    "        return input_ids, attention_mask"
   ]
  },
  {
   "cell_type": "code",
   "execution_count": 12,
   "id": "391fc7fa",
   "metadata": {},
   "outputs": [],
   "source": [
    "def create_dataloader(input_ids, attention_mask,labels, batch_size,sampler):\n",
    "    \n",
    "    #Wrap tensors into a TensorDataset\n",
    "    dataset = TensorDataset(input_ids, attention_mask, torch.tensor(labels))\n",
    "    #Sampler for sampling the data during training\n",
    "    if sampler == 'RandomSampler':\n",
    "        sampler = RandomSampler(dataset)\n",
    "    elif sampler == 'SequentialSampler':\n",
    "        sampler = SequentialSampler(dataset)\n",
    "    #DataLoader for the dataset\n",
    "    dataloader = DataLoader(dataset, sampler=sampler, batch_size=batch_size)\n",
    "    \n",
    "    return dataloader\n",
    "\n",
    "'''Prepares batches of data for \n",
    "training and evaluation, \n",
    "PyTorch’s DataLoaders streamline feeding data into the model.\n",
    "'''"
   ]
  },
  {
   "cell_type": "markdown",
   "id": "ca3f58ef",
   "metadata": {},
   "source": [
    "# Bert Architrecture"
   ]
  },
  {
   "cell_type": "code",
   "execution_count": 13,
   "id": "b5ca36ad",
   "metadata": {},
   "outputs": [],
   "source": [
    "class BERT_architecture(nn.Module):\n",
    "#Defines the BERT model architecture for sentiment analysis. \n",
    "  def __init__(self, bert):\n",
    "    super(BERT_architecture, self).__init__()\n",
    "    self.bert = bert \n",
    "    #Initial model finetuned by addition of 2 more layers: the fully connected layer and dropout layer\n",
    "    self.fc1 = nn.Linear(self.bert.config.hidden_size, 512)\n",
    "    #self.fc1 is the fully connected layer , 512 is the hidden output neuron \n",
    "    self.drop = nn.Dropout(p=0.25)\n",
    "    #self.drop is the dropout layer where  25% of the hidden inputs dropped\n",
    "    self.out = nn.Linear(512, 3)\n",
    "    #The last layer is for the prediciton - the output layer \n",
    "    for param in self.bert.parameters():\n",
    "            param.requires_grad = False\n",
    "  def forward(self, input_ids, attention_mask):\n",
    "    _, pooled_output = self.bert(\n",
    "      input_ids=input_ids,\n",
    "      attention_mask=attention_mask, return_dict=False)\n",
    "    \n",
    "    outputs = self.fc1(pooled_output)\n",
    "    outputs = self.drop(outputs)\n",
    "    return self.out(outputs)\n"
   ]
  },
  {
   "cell_type": "code",
   "execution_count": 14,
   "id": "724202fa",
   "metadata": {},
   "outputs": [],
   "source": [
    "def initialize_model(train_dataloader,epochs):\n",
    "    \n",
    "    \"\"\"Initialize the Bert Classifier, the optimizer and the learning rate scheduler.\n",
    "    \"\"\"\n",
    "    #pass the pre-trained BERT to define architecture\n",
    "\n",
    "    bert_classifier = BERT_architecture(bert)\n",
    "   \n",
    "    #push the model\n",
    "    bert_classifier = bert_classifier.to(device)\n",
    "\n",
    "    #creating the optimizer\n",
    "    optimizer = AdamW(bert_classifier.parameters(),\n",
    "                      lr=1e-3,    #Default learning rate\n",
    "                      correct_bias=False   \n",
    "                      )\n",
    "\n",
    "    #total number of training steps\n",
    "    total_steps = len(train_dataloader) * epochs\n",
    "\n",
    "    #set up the learning rate scheduler\n",
    "    scheduler = get_linear_schedule_with_warmup(optimizer,\n",
    "                                                num_warmup_steps=0, #Default value\n",
    "                                                num_training_steps=total_steps)\n",
    "\n",
    "    return bert_classifier, optimizer, scheduler"
   ]
  },
  {
   "cell_type": "code",
   "execution_count": 15,
   "id": "640ecaf5",
   "metadata": {},
   "outputs": [],
   "source": [
    "def loss_function(outputs, targets):\n",
    "    return nn.CrossEntropyLoss()(outputs, targets)\n",
    "output_model = './UI/model/bertModel.pt'\n",
    "def save(model):\n",
    "    #save\n",
    "    torch.save(model.state_dict(), output_model)"
   ]
  },
  {
   "cell_type": "code",
   "execution_count": 16,
   "id": "e44e0f1c",
   "metadata": {},
   "outputs": [],
   "source": [
    "def train_function(model, train_dataloader, val_dataloader, epochs):\n",
    "    #for training the BERT CLASSIFIER MODEL\n",
    "    history = defaultdict(list)\n",
    "    \n",
    "    train_loss = []\n",
    "    train_accuracy = []\n",
    "    val_loss = []\n",
    "    val_accuracy = []\n",
    "    best_accuracy = 0\n",
    "    \n",
    "    #BEGIN training loop\n",
    "    print(\"Start training...\\n\")\n",
    "    for epoch_i in range(epochs):\n",
    "        #print the header of the result table\n",
    "        print(f\"{'Epoch':^7} | {'Batch':^7} | {'Train Loss':^12} | {'Val Loss':^10} | {'Val Acc':^9} | {'Elapsed':^9}\")\n",
    "        print(\"-\"*70)\n",
    "\n",
    "        #measure the elapsed time of each epoch\n",
    "        t0_epoch, t0_batch = time.time(), time.time()\n",
    "\n",
    "        #reset tracking variables at the beginning of each epoch\n",
    "        total_loss, batch_loss, batch_counts = 0, 0, 0\n",
    "\n",
    "        #putting the model into the training mode\n",
    "        model.train()\n",
    "\n",
    "        #for each batch of training data...\n",
    "        for step, batch in enumerate(train_dataloader):\n",
    "            batch_counts +=1\n",
    "            #load batch to GPU\n",
    "            b_input_ids, b_attn_mask, b_labels = tuple(t.to(device) for t in batch)\n",
    "\n",
    "            #zero out any previously calculated gradients (eg make model forget everything it learned before, because i will re-tune the model)\n",
    "            model.zero_grad()\n",
    "\n",
    "            #perform a forward pass. This will return logits.\n",
    "            logits = model(b_input_ids, b_attn_mask)         \n",
    "\n",
    "            #compute loss and accumulate the loss values\n",
    "            loss = loss_function(logits, b_labels)\n",
    "            batch_loss += loss.item()\n",
    "            total_loss += loss.item()\n",
    "\n",
    "            #perform a backward pass to calculate gradients (if don't see the proper accuracy/expected result it goes backward and starts training again)\n",
    "            loss.backward()\n",
    "\n",
    "            #clip the norm of the gradients to 1.0 to prevent \"exploding gradients\"\n",
    "            torch.nn.utils.clip_grad_norm_(model.parameters(), 1.0)\n",
    "\n",
    "            #update parameters and the learning rate\n",
    "            optimizer.step()\n",
    "            scheduler.step()\n",
    "            \n",
    "            \n",
    "            #optimizer.zero_grad()\n",
    "            #print the loss values and time elapsed for every 20 batches\n",
    "            if (step % 30 == 0 and step != 0) or (step == len(train_dataloader) - 1):\n",
    "                #calculate time elapsed for 20 batches\n",
    "                time_elapsed = time.time() - t0_batch\n",
    "\n",
    "                #print training results\n",
    "                print(f\"{epoch_i + 1:^7} | {step:^7} | {batch_loss / batch_counts:^12.6f} | {'-':^10} | {'-':^9} | {time_elapsed:^9.2f}\")\n",
    "\n",
    "                #reset batch tracking variables\n",
    "                batch_loss, batch_counts = 0, 0\n",
    "                t0_batch = time.time()\n",
    "\n",
    "        #calculate the average loss over the entire training data\n",
    "        avg_train_loss = total_loss / len(train_dataloader)\n",
    "\n",
    "        print(\"-\"*70)\n",
    "        #after the completion of each training epoch, measure the model's performance\n",
    "        # on the validation set.\n",
    "        val_loss, val_accuracy = evaluate(model, val_dataloader)\n",
    "        train_loss, train_accuracy = evaluate(model, train_dataloader)\n",
    "        \n",
    "        history['train_acc'].append(train_accuracy)\n",
    "        history['train_loss'].append(train_loss)\n",
    "        history['val_acc'].append(val_accuracy)\n",
    "        history['val_loss'].append(val_loss)\n",
    "\n",
    "        # If we beat prev performance\n",
    "        if val_accuracy > best_accuracy:\n",
    "            save(model)\n",
    "            best_accuracy = val_accuracy\n",
    "\n",
    "        # Print performance over the entire training data\n",
    "        time_elapsed = time.time() - t0_epoch\n",
    "            \n",
    "        print(f\"{epoch_i + 1:^7} | {'-':^7} | {train_loss:^12.6f} | {val_loss:^10.6f} | {val_accuracy:^9.2f} | {time_elapsed:^9.2f}\")\n",
    "        print(\"-\"*70)\n",
    "    print(\"\\n\")\n",
    "    \n",
    "    print(\"Training complete!\")\n",
    "    \n",
    "    return history"
   ]
  },
  {
   "cell_type": "code",
   "execution_count": 17,
   "id": "1661e0c6",
   "metadata": {},
   "outputs": [],
   "source": [
    "def evaluate(model, val_dataloader):\n",
    "\n",
    "    #Measure model's performance on valid. set after each training epoch\n",
    "    model.eval()\n",
    "\n",
    "    val_accuracy = []\n",
    "    val_loss = []\n",
    "\n",
    "    #for each batch in the validation set\n",
    "    for batch in val_dataloader:\n",
    "        \n",
    "        #load batch to GPU\n",
    "        b_input_ids, b_attn_mask, b_labels = tuple(t.to(device) for t in batch)\n",
    "\n",
    "        #compute logits\n",
    "        with torch.no_grad():\n",
    "            logits = model(b_input_ids, b_attn_mask)\n",
    "\n",
    "        #compute loss\n",
    "        loss = loss_function(logits, b_labels)\n",
    "        val_loss.append(loss.item())\n",
    "\n",
    "        #get predictions\n",
    "        preds = torch.argmax(logits, dim=1).flatten()\n",
    "\n",
    "        #calculate accuracy rate\n",
    "        accuracy = (preds == b_labels).cpu().numpy().mean()\n",
    "        val_accuracy.append(accuracy)\n",
    "\n",
    "    #calculate average accuracy and loss over the validation set.\n",
    "    val_loss = np.mean(val_loss)\n",
    "    val_accuracy = np.mean(val_accuracy)\n",
    "\n",
    "    return val_loss, val_accuracy"
   ]
  },
  {
   "cell_type": "markdown",
   "id": "fc74df88",
   "metadata": {},
   "source": [
    "# Prepare Data for tensors"
   ]
  },
  {
   "cell_type": "code",
   "execution_count": 18,
   "id": "3a2b8226",
   "metadata": {},
   "outputs": [],
   "source": [
    "def set_seed(seed_value=42):\n",
    "    \n",
    "    \"\"\"Set seed for reproducibility.\n",
    "    \"\"\"\n",
    "    random.seed(seed_value)\n",
    "    np.random.seed(seed_value)\n",
    "    torch.manual_seed(seed_value)\n",
    "    torch.cuda.manual_seed_all(seed_value)\n",
    "\n",
    "max_len = 116 #Tried 90, 116 and 315"
   ]
  },
  {
   "cell_type": "code",
   "execution_count": 19,
   "id": "2b8d4c64",
   "metadata": {},
   "outputs": [],
   "source": [
    "#creating an instance of the TextTokenizer class\n",
    "text_tokenizer = TextTokenizer(max_len,tokenizer)\n",
    "\n",
    "#TOKENIZING the training data\n",
    "train_seq, train_mask = text_tokenizer.tokenize_texts(X_train.tolist())\n",
    "val_seq, val_mask = text_tokenizer.tokenize_texts(x_val.tolist())     \n",
    "test_seq, test_mask = text_tokenizer.tokenize_texts(x_test.tolist())\n",
    "\n",
    "#convert the datatype to torch.tensor\n",
    "train_labels = torch.tensor(y_train)\n",
    "val_labels = torch.tensor(y_val)\n",
    "test_labels = torch.tensor(y_test)\n",
    "\n",
    "batch_size=16\n",
    "train_dataloader = create_dataloader(train_seq, train_mask, train_labels, batch_size,sampler = 'RandomSampler')\n",
    "val_dataloader  =  create_dataloader(val_seq, val_mask, val_labels, batch_size,sampler = 'SequentialSampler')"
   ]
  },
  {
   "cell_type": "code",
   "execution_count": 20,
   "id": "786d1931",
   "metadata": {},
   "outputs": [],
   "source": [
    "epochs = 10"
   ]
  },
  {
   "cell_type": "code",
   "execution_count": 21,
   "id": "ca0434b8",
   "metadata": {},
   "outputs": [],
   "source": [
    "set_seed(100)    # Set seed for reproducibility\n",
    "bert_classifier, optimizer, scheduler = initialize_model(train_dataloader,epochs)"
   ]
  },
  {
   "cell_type": "code",
   "execution_count": 22,
   "id": "a5f26ba9",
   "metadata": {},
   "outputs": [
    {
     "name": "stdout",
     "output_type": "stream",
     "text": [
      "Start training...\n",
      "\n",
      " Epoch  |  Batch  |  Train Loss  |  Val Loss  |  Val Acc  |  Elapsed \n",
      "----------------------------------------------------------------------\n",
      "   1    |   30    |   3.260342   |     -      |     -     |   22.70  \n",
      "   1    |   60    |   1.691440   |     -      |     -     |   21.79  \n",
      "   1    |   90    |   1.678503   |     -      |     -     |   21.33  \n",
      "   1    |   120   |   1.257627   |     -      |     -     |   21.28  \n",
      "   1    |   150   |   1.031779   |     -      |     -     |   21.21  \n",
      "   1    |   180   |   1.016317   |     -      |     -     |   25.62  \n",
      "   1    |   210   |   1.027526   |     -      |     -     |   21.44  \n",
      "   1    |   240   |   1.015302   |     -      |     -     |   22.00  \n",
      "   1    |   260   |   0.973866   |     -      |     -     |   14.05  \n",
      "----------------------------------------------------------------------\n",
      "   1    |    -    |   1.020905   |  1.000209  |   0.55    |  333.60  \n",
      "----------------------------------------------------------------------\n",
      " Epoch  |  Batch  |  Train Loss  |  Val Loss  |  Val Acc  |  Elapsed \n",
      "----------------------------------------------------------------------\n",
      "   2    |   30    |   1.092761   |     -      |     -     |   23.11  \n",
      "   2    |   60    |   0.963404   |     -      |     -     |   21.97  \n",
      "   2    |   90    |   0.969997   |     -      |     -     |   21.15  \n",
      "   2    |   120   |   0.999396   |     -      |     -     |   22.42  \n",
      "   2    |   150   |   1.018275   |     -      |     -     |   21.51  \n",
      "   2    |   180   |   0.877140   |     -      |     -     |   21.10  \n",
      "   2    |   210   |   0.936159   |     -      |     -     |   20.95  \n",
      "   2    |   240   |   0.889956   |     -      |     -     |   21.34  \n",
      "   2    |   260   |   0.869013   |     -      |     -     |   14.23  \n",
      "----------------------------------------------------------------------\n",
      "   2    |    -    |   1.106525   |  1.021725  |   0.59    |  336.66  \n",
      "----------------------------------------------------------------------\n",
      " Epoch  |  Batch  |  Train Loss  |  Val Loss  |  Val Acc  |  Elapsed \n",
      "----------------------------------------------------------------------\n",
      "   3    |   30    |   0.858339   |     -      |     -     |   20.86  \n",
      "   3    |   60    |   0.839575   |     -      |     -     |   20.43  \n",
      "   3    |   90    |   0.847287   |     -      |     -     |   20.39  \n",
      "   3    |   120   |   0.859332   |     -      |     -     |   20.35  \n",
      "   3    |   150   |   0.886189   |     -      |     -     |   20.75  \n",
      "   3    |   180   |   0.829885   |     -      |     -     |   20.64  \n",
      "   3    |   210   |   0.912164   |     -      |     -     |   20.56  \n",
      "   3    |   240   |   0.894821   |     -      |     -     |   20.48  \n",
      "   3    |   260   |   0.944368   |     -      |     -     |   13.64  \n",
      "----------------------------------------------------------------------\n",
      "   3    |    -    |   0.741420   |  0.736203  |   0.68    |  319.29  \n",
      "----------------------------------------------------------------------\n",
      " Epoch  |  Batch  |  Train Loss  |  Val Loss  |  Val Acc  |  Elapsed \n",
      "----------------------------------------------------------------------\n",
      "   4    |   30    |   0.838229   |     -      |     -     |   21.22  \n",
      "   4    |   60    |   0.850401   |     -      |     -     |   20.29  \n",
      "   4    |   90    |   0.818645   |     -      |     -     |   20.63  \n",
      "   4    |   120   |   0.816759   |     -      |     -     |   20.36  \n",
      "   4    |   150   |   0.868708   |     -      |     -     |   20.75  \n",
      "   4    |   180   |   0.826170   |     -      |     -     |   20.33  \n",
      "   4    |   210   |   0.788846   |     -      |     -     |   20.52  \n",
      "   4    |   240   |   0.830727   |     -      |     -     |   20.95  \n",
      "   4    |   260   |   0.825646   |     -      |     -     |   13.38  \n",
      "----------------------------------------------------------------------\n",
      "   4    |    -    |   1.062829   |  1.079234  |   0.53    |  318.71  \n",
      "----------------------------------------------------------------------\n",
      " Epoch  |  Batch  |  Train Loss  |  Val Loss  |  Val Acc  |  Elapsed \n",
      "----------------------------------------------------------------------\n",
      "   5    |   30    |   0.805958   |     -      |     -     |   21.07  \n",
      "   5    |   60    |   0.807177   |     -      |     -     |   20.42  \n",
      "   5    |   90    |   0.821813   |     -      |     -     |   20.39  \n",
      "   5    |   120   |   0.794389   |     -      |     -     |   20.57  \n",
      "   5    |   150   |   0.799213   |     -      |     -     |   20.26  \n",
      "   5    |   180   |   0.755163   |     -      |     -     |   20.59  \n",
      "   5    |   210   |   0.769852   |     -      |     -     |   20.76  \n",
      "   5    |   240   |   0.902491   |     -      |     -     |   20.36  \n",
      "   5    |   260   |   0.757576   |     -      |     -     |   13.22  \n",
      "----------------------------------------------------------------------\n",
      "   5    |    -    |   0.696541   |  0.675307  |   0.69    |  321.37  \n",
      "----------------------------------------------------------------------\n",
      " Epoch  |  Batch  |  Train Loss  |  Val Loss  |  Val Acc  |  Elapsed \n",
      "----------------------------------------------------------------------\n",
      "   6    |   30    |   0.830909   |     -      |     -     |   21.48  \n",
      "   6    |   60    |   0.866473   |     -      |     -     |   21.04  \n",
      "   6    |   90    |   0.814981   |     -      |     -     |   21.38  \n",
      "   6    |   120   |   0.720762   |     -      |     -     |   20.86  \n",
      "   6    |   150   |   0.789882   |     -      |     -     |   20.93  \n",
      "   6    |   180   |   0.807517   |     -      |     -     |   21.05  \n",
      "   6    |   210   |   0.854793   |     -      |     -     |   20.72  \n",
      "   6    |   240   |   0.732009   |     -      |     -     |   20.88  \n",
      "   6    |   260   |   0.719418   |     -      |     -     |   13.74  \n",
      "----------------------------------------------------------------------\n",
      "   6    |    -    |   0.684482   |  0.670668  |   0.68    |  325.27  \n",
      "----------------------------------------------------------------------\n",
      " Epoch  |  Batch  |  Train Loss  |  Val Loss  |  Val Acc  |  Elapsed \n",
      "----------------------------------------------------------------------\n",
      "   7    |   30    |   0.831126   |     -      |     -     |   21.57  \n",
      "   7    |   60    |   0.762285   |     -      |     -     |   22.97  \n",
      "   7    |   90    |   0.757365   |     -      |     -     |   23.09  \n",
      "   7    |   120   |   0.777425   |     -      |     -     |   22.98  \n",
      "   7    |   150   |   0.726976   |     -      |     -     |   23.08  \n",
      "   7    |   180   |   0.738958   |     -      |     -     |   22.84  \n",
      "   7    |   210   |   0.764049   |     -      |     -     |   23.86  \n",
      "   7    |   240   |   0.774109   |     -      |     -     |   21.27  \n",
      "   7    |   260   |   0.743139   |     -      |     -     |   14.15  \n",
      "----------------------------------------------------------------------\n",
      "   7    |    -    |   0.669043   |  0.651143  |   0.68    |  355.64  \n",
      "----------------------------------------------------------------------\n",
      " Epoch  |  Batch  |  Train Loss  |  Val Loss  |  Val Acc  |  Elapsed \n",
      "----------------------------------------------------------------------\n",
      "   8    |   30    |   0.772011   |     -      |     -     |   23.23  \n",
      "   8    |   60    |   0.724563   |     -      |     -     |   21.06  \n",
      "   8    |   90    |   0.830970   |     -      |     -     |   22.56  \n",
      "   8    |   120   |   0.772219   |     -      |     -     |   22.88  \n",
      "   8    |   150   |   0.692610   |     -      |     -     |   22.51  \n",
      "   8    |   180   |   0.709670   |     -      |     -     |   23.14  \n",
      "   8    |   210   |   0.756880   |     -      |     -     |   25.72  \n",
      "   8    |   240   |   0.776486   |     -      |     -     |   21.55  \n",
      "   8    |   260   |   0.760971   |     -      |     -     |   14.12  \n",
      "----------------------------------------------------------------------\n",
      "   8    |    -    |   0.654890   |  0.645481  |   0.69    |  362.25  \n",
      "----------------------------------------------------------------------\n",
      " Epoch  |  Batch  |  Train Loss  |  Val Loss  |  Val Acc  |  Elapsed \n",
      "----------------------------------------------------------------------\n",
      "   9    |   30    |   0.754443   |     -      |     -     |   23.90  \n",
      "   9    |   60    |   0.799790   |     -      |     -     |   22.08  \n",
      "   9    |   90    |   0.758113   |     -      |     -     |   22.02  \n",
      "   9    |   120   |   0.717710   |     -      |     -     |   24.09  \n",
      "   9    |   150   |   0.720932   |     -      |     -     |   22.97  \n",
      "   9    |   180   |   0.685834   |     -      |     -     |   22.52  \n",
      "   9    |   210   |   0.810267   |     -      |     -     |   20.98  \n",
      "   9    |   240   |   0.719389   |     -      |     -     |   20.84  \n",
      "   9    |   260   |   0.822619   |     -      |     -     |   13.91  \n",
      "----------------------------------------------------------------------\n",
      "   9    |    -    |   0.683413   |  0.661088  |   0.67    |  364.75  \n",
      "----------------------------------------------------------------------\n",
      " Epoch  |  Batch  |  Train Loss  |  Val Loss  |  Val Acc  |  Elapsed \n",
      "----------------------------------------------------------------------\n",
      "  10    |   30    |   0.713368   |     -      |     -     |   26.97  \n",
      "  10    |   60    |   0.738715   |     -      |     -     |   24.38  \n",
      "  10    |   90    |   0.765123   |     -      |     -     |   26.48  \n",
      "  10    |   120   |   0.718707   |     -      |     -     |   25.15  \n",
      "  10    |   150   |   0.750698   |     -      |     -     |   21.72  \n",
      "  10    |   180   |   0.673114   |     -      |     -     |   21.56  \n",
      "  10    |   210   |   0.750671   |     -      |     -     |   21.91  \n",
      "  10    |   240   |   0.751285   |     -      |     -     |   21.78  \n",
      "  10    |   260   |   0.682150   |     -      |     -     |   14.31  \n",
      "----------------------------------------------------------------------\n",
      "  10    |    -    |   0.871354   |  0.879112  |   0.64    |  360.47  \n",
      "----------------------------------------------------------------------\n",
      " Epoch  |  Batch  |  Train Loss  |  Val Loss  |  Val Acc  |  Elapsed \n",
      "----------------------------------------------------------------------\n",
      "  11    |   30    |   0.757089   |     -      |     -     |   22.24  \n",
      "  11    |   60    |   0.733627   |     -      |     -     |   22.79  \n",
      "  11    |   90    |   0.693220   |     -      |     -     |   21.56  \n",
      "  11    |   120   |   0.777929   |     -      |     -     |   21.64  \n",
      "  11    |   150   |   0.710516   |     -      |     -     |   21.26  \n",
      "  11    |   180   |   0.761344   |     -      |     -     |   22.84  \n",
      "  11    |   210   |   0.698122   |     -      |     -     |   23.87  \n",
      "  11    |   240   |   0.672494   |     -      |     -     |   22.47  \n",
      "  11    |   260   |   0.773405   |     -      |     -     |   14.41  \n",
      "----------------------------------------------------------------------\n",
      "  11    |    -    |   0.722108   |  0.721446  |   0.67    |  342.05  \n",
      "----------------------------------------------------------------------\n",
      " Epoch  |  Batch  |  Train Loss  |  Val Loss  |  Val Acc  |  Elapsed \n",
      "----------------------------------------------------------------------\n",
      "  12    |   30    |   0.728783   |     -      |     -     |   22.08  \n",
      "  12    |   60    |   0.729665   |     -      |     -     |   21.22  \n",
      "  12    |   90    |   0.745248   |     -      |     -     |   21.25  \n",
      "  12    |   120   |   0.684781   |     -      |     -     |   21.30  \n",
      "  12    |   150   |   0.680210   |     -      |     -     |   21.30  \n",
      "  12    |   180   |   0.691061   |     -      |     -     |   21.39  \n",
      "  12    |   210   |   0.737306   |     -      |     -     |   21.31  \n",
      "  12    |   240   |   0.744721   |     -      |     -     |   21.30  \n",
      "  12    |   260   |   0.672813   |     -      |     -     |   13.92  \n",
      "----------------------------------------------------------------------\n",
      "  12    |    -    |   0.640791   |  0.632417  |   0.71    |  332.67  \n",
      "----------------------------------------------------------------------\n",
      " Epoch  |  Batch  |  Train Loss  |  Val Loss  |  Val Acc  |  Elapsed \n",
      "----------------------------------------------------------------------\n",
      "  13    |   30    |   0.734779   |     -      |     -     |   21.84  \n",
      "  13    |   60    |   0.695776   |     -      |     -     |   21.27  \n",
      "  13    |   90    |   0.709259   |     -      |     -     |   21.35  \n",
      "  13    |   120   |   0.676972   |     -      |     -     |   21.39  \n",
      "  13    |   150   |   0.763144   |     -      |     -     |   21.21  \n",
      "  13    |   180   |   0.712835   |     -      |     -     |   21.31  \n",
      "  13    |   210   |   0.733064   |     -      |     -     |   21.32  \n",
      "  13    |   240   |   0.738400   |     -      |     -     |   21.33  \n",
      "  13    |   260   |   0.684152   |     -      |     -     |   14.56  \n",
      "----------------------------------------------------------------------\n",
      "  13    |    -    |   0.695243   |  0.692238  |   0.67    |  334.38  \n",
      "----------------------------------------------------------------------\n",
      " Epoch  |  Batch  |  Train Loss  |  Val Loss  |  Val Acc  |  Elapsed \n",
      "----------------------------------------------------------------------\n",
      "  14    |   30    |   0.659171   |     -      |     -     |   21.96  \n",
      "  14    |   60    |   0.690313   |     -      |     -     |   21.60  \n",
      "  14    |   90    |   0.677086   |     -      |     -     |   21.22  \n",
      "  14    |   120   |   0.700053   |     -      |     -     |   21.24  \n",
      "  14    |   150   |   0.667318   |     -      |     -     |   21.35  \n",
      "  14    |   180   |   0.708553   |     -      |     -     |   21.30  \n",
      "  14    |   210   |   0.687332   |     -      |     -     |   21.31  \n",
      "  14    |   240   |   0.687203   |     -      |     -     |   21.37  \n",
      "  14    |   260   |   0.760506   |     -      |     -     |   14.15  \n",
      "----------------------------------------------------------------------\n",
      "  14    |    -    |   0.656052   |  0.652191  |   0.69    |  332.76  \n",
      "----------------------------------------------------------------------\n",
      " Epoch  |  Batch  |  Train Loss  |  Val Loss  |  Val Acc  |  Elapsed \n",
      "----------------------------------------------------------------------\n",
      "  15    |   30    |   0.662511   |     -      |     -     |   22.20  \n",
      "  15    |   60    |   0.666886   |     -      |     -     |   21.24  \n",
      "  15    |   90    |   0.681047   |     -      |     -     |   21.33  \n",
      "  15    |   120   |   0.741315   |     -      |     -     |   21.21  \n",
      "  15    |   150   |   0.700017   |     -      |     -     |   21.29  \n",
      "  15    |   180   |   0.664227   |     -      |     -     |   21.25  \n",
      "  15    |   210   |   0.745967   |     -      |     -     |   21.25  \n",
      "  15    |   240   |   0.661556   |     -      |     -     |   21.26  \n",
      "  15    |   260   |   0.666056   |     -      |     -     |   13.93  \n",
      "----------------------------------------------------------------------\n",
      "  15    |    -    |   0.633708   |  0.617423  |   0.71    |  333.26  \n",
      "----------------------------------------------------------------------\n",
      " Epoch  |  Batch  |  Train Loss  |  Val Loss  |  Val Acc  |  Elapsed \n",
      "----------------------------------------------------------------------\n",
      "  16    |   30    |   0.713095   |     -      |     -     |   22.10  \n",
      "  16    |   60    |   0.742428   |     -      |     -     |   21.34  \n",
      "  16    |   90    |   0.657820   |     -      |     -     |   21.34  \n",
      "  16    |   120   |   0.696141   |     -      |     -     |   21.31  \n",
      "  16    |   150   |   0.662682   |     -      |     -     |   21.30  \n",
      "  16    |   180   |   0.716931   |     -      |     -     |   21.40  \n",
      "  16    |   210   |   0.666266   |     -      |     -     |   21.32  \n",
      "  16    |   240   |   0.688822   |     -      |     -     |   21.37  \n",
      "  16    |   260   |   0.712604   |     -      |     -     |   14.31  \n",
      "----------------------------------------------------------------------\n",
      "  16    |    -    |   0.630468   |  0.617738  |   0.71    |  333.54  \n",
      "----------------------------------------------------------------------\n",
      " Epoch  |  Batch  |  Train Loss  |  Val Loss  |  Val Acc  |  Elapsed \n",
      "----------------------------------------------------------------------\n",
      "  17    |   30    |   0.727510   |     -      |     -     |   21.99  \n",
      "  17    |   60    |   0.673404   |     -      |     -     |   21.71  \n",
      "  17    |   90    |   0.716940   |     -      |     -     |   21.20  \n",
      "  17    |   120   |   0.707638   |     -      |     -     |   21.33  \n",
      "  17    |   150   |   0.660414   |     -      |     -     |   21.19  \n",
      "  17    |   180   |   0.629251   |     -      |     -     |   21.20  \n",
      "  17    |   210   |   0.622664   |     -      |     -     |   21.14  \n",
      "  17    |   240   |   0.718060   |     -      |     -     |   21.30  \n",
      "  17    |   260   |   0.664730   |     -      |     -     |   13.93  \n",
      "----------------------------------------------------------------------\n"
     ]
    }
   ],
   "source": [
    "%%time\n",
    "history= train_function(bert_classifier, train_dataloader, val_dataloader, epochs)"
   ]
  },
  {
   "cell_type": "code",
   "execution_count": null,
   "id": "392cbc8c",
   "metadata": {},
   "outputs": [
    {
     "data": {
      "text/plain": [
       "(0.0, 1.0)"
      ]
     },
     "execution_count": 44,
     "metadata": {},
     "output_type": "execute_result"
    },
    {
     "data": {
      "image/png": "[encoded data removed]",
      "text/plain": [
       "<Figure size 640x480 with 1 Axes>"
      ]
     },
     "metadata": {},
     "output_type": "display_data"
    }
   ],
   "source": [
    "#plot of the training and validation accuracy\n",
    "plt.plot(history['train_acc'], label='train accuracy')\n",
    "plt.plot(history['val_acc'], label='validation accuracy')\n",
    "\n",
    "plt.title('Training and validation Accuracy')\n",
    "plt.ylabel('Accuracy')\n",
    "plt.xlabel('Epoch')\n",
    "plt.legend()\n",
    "plt.ylim([0, 1])"
   ]
  },
  {
   "cell_type": "code",
   "execution_count": null,
   "id": "d3f295c3",
   "metadata": {},
   "outputs": [
    {
     "data": {
      "image/png": "[encoded data removed]",
      "text/plain": [
       "<Figure size 640x480 with 1 Axes>"
      ]
     },
     "metadata": {},
     "output_type": "display_data"
    }
   ],
   "source": [
    "#plot of the training and validation accuracy\n",
    "plt.plot(history['train_loss'], label='Training Loss')\n",
    "plt.plot(history['val_loss'], label='validation Loss')\n",
    "\n",
    "plt.title('Model Loss History')\n",
    "plt.ylabel('Loss')\n",
    "plt.xlabel('Epoch')\n",
    "plt.legend()\n",
    "plt.ylim([0, 1]);"
   ]
  },
  {
   "cell_type": "markdown",
   "id": "f1d3d8dd",
   "metadata": {},
   "source": [
    "# Model testing"
   ]
  },
  {
   "cell_type": "code",
   "execution_count": null,
   "id": "6f8ebe65",
   "metadata": {},
   "outputs": [],
   "source": [
    "#creation of the DataLoader for the test set\n",
    "test_dataset = TensorDataset(test_seq, test_mask)\n",
    "test_sampler = SequentialSampler(test_dataset)\n",
    "test_dataloader = DataLoader(test_dataset, sampler=test_sampler, batch_size=16) "
   ]
  },
  {
   "cell_type": "code",
   "execution_count": null,
   "id": "a402d350",
   "metadata": {},
   "outputs": [],
   "source": [
    "def bert_predict(model, test_dataloader):\n",
    "    \"\"\"Perform a forward pass on the trained BERT model to predict probabilities\n",
    "    on the test set.\n",
    "    \"\"\"\n",
    "    #putting the model into the evaluation model & the dropout layers are disabled\n",
    "    model.eval()\n",
    "\n",
    "    all_logits = []\n",
    "\n",
    "    # For each batch in the test set...\n",
    "    for batch in test_dataloader:\n",
    "        # Load batch to GPU\n",
    "        b_input_ids, b_attn_mask = tuple(t.to(device) for t in batch)[:2]\n",
    "\n",
    "        # Compute logits\n",
    "        with torch.no_grad():\n",
    "            logits = model(b_input_ids, b_attn_mask)\n",
    "        all_logits.append(logits)\n",
    "    \n",
    "    # Concatenate logits from each batch\n",
    "    all_logits = torch.cat(all_logits, dim=0)\n",
    "\n",
    "    # Apply softmax to calculate probabilities\n",
    "    # Cpu() method transfers tensor from current device to cpu - neccessary for operation not supported on GPU\n",
    "    probs = F.softmax(all_logits, dim=1).cpu().numpy()\n",
    "\n",
    "    return probs"
   ]
  },
  {
   "cell_type": "code",
   "execution_count": null,
   "id": "ccf4ae72",
   "metadata": {},
   "outputs": [
    {
     "name": "stdout",
     "output_type": "stream",
     "text": [
      "              precision    recall  f1-score   support\n",
      "\n",
      "           0       0.82      0.79      0.80       186\n",
      "           1       0.74      0.81      0.77       149\n",
      "           2       0.69      0.65      0.67       187\n",
      "\n",
      "    accuracy                           0.75       522\n",
      "   macro avg       0.75      0.75      0.75       522\n",
      "weighted avg       0.75      0.75      0.75       522\n",
      "\n"
     ]
    }
   ],
   "source": [
    "probs = bert_predict(bert_classifier, test_dataloader)\n",
    "pred = np.argmax(probs, axis = 1)\n",
    "print(classification_report(y_test, pred))"
   ]
  },
  {
   "cell_type": "code",
   "execution_count": null,
   "id": "32b2866f",
   "metadata": {},
   "outputs": [
    {
     "data": {
      "image/png": "[encoded data removed]",
      "text/plain": [
       "<Figure size 640x480 with 2 Axes>"
      ]
     },
     "metadata": {},
     "output_type": "display_data"
    }
   ],
   "source": [
    "def show_confusion_matrix(confusion_matrix):\n",
    "    labels = ['Neutral', 'Negative', 'Positive']\n",
    "    hmap = sns.heatmap(confusion_matrix, annot=True, fmt=\"d\", cmap=\"Blues\")\n",
    "    hmap.yaxis.set_ticklabels(labels, rotation=0, ha='right')\n",
    "    hmap.xaxis.set_ticklabels(labels, rotation=30, ha='right')\n",
    "    plt.ylabel('Actual sentiment')\n",
    "    plt.xlabel('Predicted sentiment')\n",
    "\n",
    "#cm is the confusion matrix\n",
    "cm = confusion_matrix(y_test, pred)\n",
    "df_cm = pd.DataFrame(cm)\n",
    "show_confusion_matrix(df_cm)\n",
    "plt.show()"
   ]
  },
  {
   "cell_type": "code",
   "execution_count": null,
   "id": "a197f256",
   "metadata": {},
   "outputs": [],
   "source": [
    "#for GENERATING MODELS\n",
    "import os\n",
    "#Save the BERT model and tokenizer\n",
    "model_path = \"./UI/model\"\n",
    "os.makedirs(model_path, exist_ok=True)\n",
    "tokenizer.save_pretrained(model_path)\n",
    "bert.save_pretrained(model_path)"
   ]
  },
  {
   "cell_type": "markdown",
   "id": "9aa10bc6",
   "metadata": {},
   "source": [
    "References:\n",
    "[1] Joshi, P., 2020. Fine-Tuning-BERT. [Online] Available at: https://github.com/prateekjoshi565 [Accessed 1 November 2024]. \n",
    "\n",
    "[2] Valkov, V., 2020. Sentiment Analysis with BERT. [Online] Available at: https://github.com/curiousily/Getting-Things-Done-with-Pytorch/blob/master/08.sentiment-analysis-with-bert.ipynb [Accessed 2 November 2024].\n"
   ]
  },
  {
   "cell_type": "markdown",
   "id": "58086bc0",
   "metadata": {},
   "source": []
  },
  {
   "cell_type": "markdown",
   "id": "6b3c3c50",
   "metadata": {},
   "source": []
  }
 ],
 "metadata": {
  "kernelspec": {
   "display_name": "Python 3 (ipykernel)",
   "language": "python",
   "name": "python3"
  },
  "language_info": {
   "codemirror_mode": {
    "name": "ipython",
    "version": 3
   },
   "file_extension": ".py",
   "mimetype": "text/x-python",
   "name": "python",
   "nbconvert_exporter": "python",
   "pygments_lexer": "ipython3",
   "version": "3.8.18"
  }
 },
 "nbformat": 4,
 "nbformat_minor": 5
}
